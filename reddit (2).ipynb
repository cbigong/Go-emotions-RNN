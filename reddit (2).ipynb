{
  "cells": [
    {
      "cell_type": "markdown",
      "metadata": {
        "id": "zX4Kg8DUTKWO"
      },
      "source": [
        "# Imports"
      ]
    },
    {
      "cell_type": "code",
      "execution_count": 2,
      "metadata": {
        "id": "XYYDvoskkE61"
      },
      "outputs": [],
      "source": [
        "%matplotlib inline\n",
        "import json\n",
        "import tensorflow as tf\n",
        "import pandas as pd \n",
        "from tensorflow.keras.preprocessing.text import Tokenizer\n",
        "from tensorflow.keras.preprocessing.sequence import pad_sequences\n",
        "from tensorflow.keras import utils"
      ]
    },
    {
      "cell_type": "code",
      "execution_count": 3,
      "metadata": {
        "colab": {
          "base_uri": "https://localhost:8080/",
          "height": 1000
        },
        "id": "BDf3-bQhixGX",
        "outputId": "816781ac-f350-45f8-f5c4-301c83270746"
      },
      "outputs": [
        {
          "output_type": "stream",
          "name": "stdout",
          "text": [
            "Looking in indexes: https://pypi.org/simple, https://us-python.pkg.dev/colab-wheels/public/simple/\n",
            "Collecting datasets\n",
            "  Downloading datasets-2.8.0-py3-none-any.whl (452 kB)\n",
            "\u001b[K     |████████████████████████████████| 452 kB 19.7 MB/s \n",
            "\u001b[?25hRequirement already satisfied: packaging in /usr/local/lib/python3.8/dist-packages (from datasets) (21.3)\n",
            "Requirement already satisfied: fsspec[http]>=2021.11.1 in /usr/local/lib/python3.8/dist-packages (from datasets) (2022.11.0)\n",
            "Requirement already satisfied: pandas in /usr/local/lib/python3.8/dist-packages (from datasets) (1.3.5)\n",
            "Collecting xxhash\n",
            "  Downloading xxhash-3.1.0-cp38-cp38-manylinux_2_17_x86_64.manylinux2014_x86_64.whl (212 kB)\n",
            "\u001b[K     |████████████████████████████████| 212 kB 59.7 MB/s \n",
            "\u001b[?25hRequirement already satisfied: dill<0.3.7 in /usr/local/lib/python3.8/dist-packages (from datasets) (0.3.6)\n",
            "Requirement already satisfied: requests>=2.19.0 in /usr/local/lib/python3.8/dist-packages (from datasets) (2.23.0)\n",
            "Requirement already satisfied: pyarrow>=6.0.0 in /usr/local/lib/python3.8/dist-packages (from datasets) (9.0.0)\n",
            "Requirement already satisfied: tqdm>=4.62.1 in /usr/local/lib/python3.8/dist-packages (from datasets) (4.64.1)\n",
            "Requirement already satisfied: aiohttp in /usr/local/lib/python3.8/dist-packages (from datasets) (3.8.3)\n",
            "Collecting huggingface-hub<1.0.0,>=0.2.0\n",
            "  Downloading huggingface_hub-0.11.1-py3-none-any.whl (182 kB)\n",
            "\u001b[K     |████████████████████████████████| 182 kB 60.5 MB/s \n",
            "\u001b[?25hCollecting responses<0.19\n",
            "  Downloading responses-0.18.0-py3-none-any.whl (38 kB)\n",
            "Requirement already satisfied: numpy>=1.17 in /usr/local/lib/python3.8/dist-packages (from datasets) (1.21.6)\n",
            "Collecting multiprocess\n",
            "  Downloading multiprocess-0.70.14-py38-none-any.whl (132 kB)\n",
            "\u001b[K     |████████████████████████████████| 132 kB 59.2 MB/s \n",
            "\u001b[?25hRequirement already satisfied: pyyaml>=5.1 in /usr/local/lib/python3.8/dist-packages (from datasets) (6.0)\n",
            "Requirement already satisfied: multidict<7.0,>=4.5 in /usr/local/lib/python3.8/dist-packages (from aiohttp->datasets) (6.0.3)\n",
            "Requirement already satisfied: attrs>=17.3.0 in /usr/local/lib/python3.8/dist-packages (from aiohttp->datasets) (22.1.0)\n",
            "Requirement already satisfied: frozenlist>=1.1.1 in /usr/local/lib/python3.8/dist-packages (from aiohttp->datasets) (1.3.3)\n",
            "Requirement already satisfied: async-timeout<5.0,>=4.0.0a3 in /usr/local/lib/python3.8/dist-packages (from aiohttp->datasets) (4.0.2)\n",
            "Requirement already satisfied: yarl<2.0,>=1.0 in /usr/local/lib/python3.8/dist-packages (from aiohttp->datasets) (1.8.2)\n",
            "Requirement already satisfied: aiosignal>=1.1.2 in /usr/local/lib/python3.8/dist-packages (from aiohttp->datasets) (1.3.1)\n",
            "Requirement already satisfied: charset-normalizer<3.0,>=2.0 in /usr/local/lib/python3.8/dist-packages (from aiohttp->datasets) (2.1.1)\n",
            "Requirement already satisfied: typing-extensions>=3.7.4.3 in /usr/local/lib/python3.8/dist-packages (from huggingface-hub<1.0.0,>=0.2.0->datasets) (4.4.0)\n",
            "Requirement already satisfied: filelock in /usr/local/lib/python3.8/dist-packages (from huggingface-hub<1.0.0,>=0.2.0->datasets) (3.8.2)\n",
            "Requirement already satisfied: pyparsing!=3.0.5,>=2.0.2 in /usr/local/lib/python3.8/dist-packages (from packaging->datasets) (3.0.9)\n",
            "Requirement already satisfied: chardet<4,>=3.0.2 in /usr/local/lib/python3.8/dist-packages (from requests>=2.19.0->datasets) (3.0.4)\n",
            "Requirement already satisfied: urllib3!=1.25.0,!=1.25.1,<1.26,>=1.21.1 in /usr/local/lib/python3.8/dist-packages (from requests>=2.19.0->datasets) (1.24.3)\n",
            "Requirement already satisfied: certifi>=2017.4.17 in /usr/local/lib/python3.8/dist-packages (from requests>=2.19.0->datasets) (2022.12.7)\n",
            "Requirement already satisfied: idna<3,>=2.5 in /usr/local/lib/python3.8/dist-packages (from requests>=2.19.0->datasets) (2.10)\n",
            "Collecting urllib3!=1.25.0,!=1.25.1,<1.26,>=1.21.1\n",
            "  Downloading urllib3-1.25.11-py2.py3-none-any.whl (127 kB)\n",
            "\u001b[K     |████████████████████████████████| 127 kB 58.6 MB/s \n",
            "\u001b[?25hRequirement already satisfied: python-dateutil>=2.7.3 in /usr/local/lib/python3.8/dist-packages (from pandas->datasets) (2.8.2)\n",
            "Requirement already satisfied: pytz>=2017.3 in /usr/local/lib/python3.8/dist-packages (from pandas->datasets) (2022.6)\n",
            "Requirement already satisfied: six>=1.5 in /usr/local/lib/python3.8/dist-packages (from python-dateutil>=2.7.3->pandas->datasets) (1.15.0)\n",
            "Installing collected packages: urllib3, xxhash, responses, multiprocess, huggingface-hub, datasets\n",
            "  Attempting uninstall: urllib3\n",
            "    Found existing installation: urllib3 1.24.3\n",
            "    Uninstalling urllib3-1.24.3:\n",
            "      Successfully uninstalled urllib3-1.24.3\n",
            "Successfully installed datasets-2.8.0 huggingface-hub-0.11.1 multiprocess-0.70.14 responses-0.18.0 urllib3-1.25.11 xxhash-3.1.0\n"
          ]
        },
        {
          "output_type": "display_data",
          "data": {
            "application/vnd.colab-display-data+json": {
              "pip_warning": {
                "packages": [
                  "urllib3"
                ]
              }
            }
          },
          "metadata": {}
        }
      ],
      "source": [
        "try:\n",
        "    import datasets\n",
        "except ModuleNotFoundError:\n",
        "    !pip install datasets\n",
        "    import datasets"
      ]
    },
    {
      "cell_type": "markdown",
      "metadata": {
        "id": "zBhk9UD7ixGb"
      },
      "source": [
        "# Load data"
      ]
    },
    {
      "cell_type": "code",
      "execution_count": 9,
      "metadata": {
        "colab": {
          "base_uri": "https://localhost:8080/"
        },
        "id": "YkLHpsEsixGe",
        "outputId": "c01cd6cf-9b0f-461e-dcfd-f432e4c51ec8"
      },
      "outputs": [
        {
          "output_type": "stream",
          "name": "stderr",
          "text": [
            "WARNING:datasets.builder:No config specified, defaulting to: go_emotions/simplified\n",
            "WARNING:datasets.builder:Found cached dataset go_emotions (/root/.cache/huggingface/datasets/go_emotions/simplified/0.0.0/2637cfdd4e64d30249c3ed2150fa2b9d279766bfcd6a809b9f085c61a90d776d)\n",
            "WARNING:datasets.builder:No config specified, defaulting to: go_emotions/simplified\n",
            "WARNING:datasets.builder:Found cached dataset go_emotions (/root/.cache/huggingface/datasets/go_emotions/simplified/0.0.0/2637cfdd4e64d30249c3ed2150fa2b9d279766bfcd6a809b9f085c61a90d776d)\n",
            "WARNING:datasets.builder:No config specified, defaulting to: go_emotions/simplified\n",
            "WARNING:datasets.builder:Found cached dataset go_emotions (/root/.cache/huggingface/datasets/go_emotions/simplified/0.0.0/2637cfdd4e64d30249c3ed2150fa2b9d279766bfcd6a809b9f085c61a90d776d)\n"
          ]
        }
      ],
      "source": [
        "#Loading dataset\n",
        "from datasets import load_dataset\n",
        "train = load_dataset(\"go_emotions\", split=\"train\")\n",
        "test = load_dataset(\"go_emotions\", split=\"test\")\n",
        "valid = load_dataset(\"go_emotions\", split=\"validation\")"
      ]
    },
    {
      "cell_type": "markdown",
      "source": [
        "#EDA"
      ],
      "metadata": {
        "id": "FuQupzcEcI4d"
      }
    },
    {
      "cell_type": "code",
      "execution_count": 10,
      "metadata": {
        "colab": {
          "base_uri": "https://localhost:8080/"
        },
        "id": "gf60OWTcixGf",
        "outputId": "94f5310f-3102-4b8f-d29a-ef41888c7fa5"
      },
      "outputs": [
        {
          "output_type": "stream",
          "name": "stdout",
          "text": [
            "43410     5427      5426\n"
          ]
        }
      ],
      "source": [
        "print(len(train),\"   \",len(test),\"    \",len(valid))"
      ]
    },
    {
      "cell_type": "code",
      "source": [
        "train_eda=pd.DataFrame(train)\n",
        "train_eda['labels']=train_eda.labels.map(lambda x:x[0])\n",
        "import matplotlib.pyplot as plt\n",
        "a=train_eda.labels.value_counts();x=a.index; y=a.values\n",
        "fig=plt.figure(figsize = (10, 5))\n",
        "plt.bar(x,y)\n",
        "plt.xlabel(\"classes\")\n",
        "plt.ylabel(\"values\")\n",
        "plt.title('classes distribution')\n",
        "plt.show()"
      ],
      "metadata": {
        "colab": {
          "base_uri": "https://localhost:8080/",
          "height": 350
        },
        "id": "Xr7jA8KFcQA6",
        "outputId": "f7a8c498-9a90-4f2b-9a36-ffb1b1372f71"
      },
      "execution_count": 11,
      "outputs": [
        {
          "output_type": "display_data",
          "data": {
            "text/plain": [
              "<Figure size 720x360 with 1 Axes>"
            ],
            "image/png": "[encoded data removed]"
          },
          "metadata": {
            "needs_background": "light"
          }
        }
      ]
    },
    {
      "cell_type": "markdown",
      "source": [
        "#PREPROCESSING\n"
      ],
      "metadata": {
        "id": "vy0gUgwPcbVV"
      }
    },
    {
      "cell_type": "code",
      "source": [
        "#We've noticed that our labels were kind of list of list instead we want it to be just a list\n",
        "def label(df):\n",
        "    labels=[x[0] for x in df['labels']]\n",
        "    return labels"
      ],
      "metadata": {
        "id": "rKbwYGGecafh"
      },
      "execution_count": 12,
      "outputs": []
    },
    {
      "cell_type": "code",
      "source": [
        "tr = label(train)\n",
        "ts = label(test)"
      ],
      "metadata": {
        "id": "bRp2hhIwciH8"
      },
      "execution_count": 13,
      "outputs": []
    },
    {
      "cell_type": "code",
      "source": [
        "training_label=utils.to_categorical(tr)\n",
        "testing_label=utils.to_categorical(ts)"
      ],
      "metadata": {
        "id": "ruY9OLiPpJWI"
      },
      "execution_count": 14,
      "outputs": []
    },
    {
      "cell_type": "code",
      "source": [
        "training_label.shape"
      ],
      "metadata": {
        "colab": {
          "base_uri": "https://localhost:8080/"
        },
        "id": "yNWI54-ApU8x",
        "outputId": "f240906c-0631-4199-feed-3746ddefbde3"
      },
      "execution_count": 15,
      "outputs": [
        {
          "output_type": "execute_result",
          "data": {
            "text/plain": [
              "(43410, 28)"
            ]
          },
          "metadata": {},
          "execution_count": 15
        }
      ]
    },
    {
      "cell_type": "code",
      "execution_count": 16,
      "metadata": {
        "id": "aD3z_gyqixGj"
      },
      "outputs": [],
      "source": [
        "training_sentences = train['text']\n",
        "testing_sentences = test['text']"
      ]
    },
    {
      "cell_type": "code",
      "execution_count": 17,
      "metadata": {
        "id": "bdtc8wXdixGj"
      },
      "outputs": [],
      "source": [
        "#Hyperparameters\n",
        "trunc_type='post'\n",
        "padding_type='post'\n",
        "oov_tok = \"<OOV>\""
      ]
    },
    {
      "cell_type": "code",
      "execution_count": 18,
      "metadata": {
        "id": "3u8UB0MCkZ5N"
      },
      "outputs": [],
      "source": [
        "tokenizer = Tokenizer(num_words=None, oov_token=oov_tok)\n",
        "tokenizer.fit_on_texts(training_sentences)\n",
        "\n",
        "word_index = tokenizer.word_index\n",
        "\n",
        "training_sequences = tokenizer.texts_to_sequences(training_sentences)\n",
        "max_length = max([len(x) for x in training_sequences])\n",
        "training_padded = pad_sequences(training_sequences, maxlen=max_length, padding=padding_type, truncating=trunc_type)\n",
        "\n",
        "testing_sequences = tokenizer.texts_to_sequences(testing_sentences)\n",
        "testing_padded = pad_sequences(testing_sequences, maxlen=max_length, padding=padding_type, truncating=trunc_type)"
      ]
    },
    {
      "cell_type": "code",
      "source": [
        "#Hyperparams\n",
        "vocab_size = len(tokenizer.word_index) + 1\n",
        "embedding_dim = 100\n",
        "\n",
        "max_length"
      ],
      "metadata": {
        "colab": {
          "base_uri": "https://localhost:8080/"
        },
        "id": "2wap_BQ7RuWn",
        "outputId": "a36a02af-ecb7-4af2-8129-6cb3d6f900f1"
      },
      "execution_count": 24,
      "outputs": [
        {
          "output_type": "execute_result",
          "data": {
            "text/plain": [
              "142"
            ]
          },
          "metadata": {},
          "execution_count": 24
        }
      ]
    },
    {
      "cell_type": "code",
      "execution_count": 20,
      "metadata": {
        "id": "GrAlWBKf99Ya"
      },
      "outputs": [],
      "source": [
        "# Need this block to get it to work with TensorFlow 2.x\n",
        "import numpy as np\n",
        "training_padded = np.array(training_padded)\n",
        "training_labels = np.array(training_label)\n",
        "testing_padded = np.array(testing_padded)\n",
        "testing_labels = np.array(testing_label)"
      ]
    },
    {
      "cell_type": "markdown",
      "metadata": {
        "id": "vtVm__bIixGn"
      },
      "source": [
        "# Model Training"
      ]
    },
    {
      "cell_type": "code",
      "execution_count": null,
      "metadata": {
        "id": "FufaT4vlkiDE"
      },
      "outputs": [],
      "source": [
        "model = tf.keras.Sequential([\n",
        "    tf.keras.layers.Embedding(vocab_size, embedding_dim, input_length=100),\n",
        "    tf.keras.layers.GlobalAveragePooling1D(),\n",
        "    tf.keras.layers.Dense(64, activation='relu'),\n",
        "    tf.keras.layers.Dense(64, activation='relu'),\n",
        "    tf.keras.layers.Dense(64, activation='relu'),\n",
        "    tf.keras.layers.Dense(64, activation='relu'),\n",
        "    tf.keras.layers.Dropout(0.5),\n",
        "    tf.keras.layers.Dense(28, activation='sigmoid')\n",
        "])\n",
        "model.compile(loss='binary_crossentropy',\n",
        "    optimizer='adam',\n",
        "    metrics=['accuracy'])"
      ]
    },
    {
      "cell_type": "code",
      "execution_count": null,
      "metadata": {
        "colab": {
          "base_uri": "https://localhost:8080/"
        },
        "id": "XfDt1hmYkiys",
        "outputId": "a501b9f1-94d4-484c-db7d-4d97f39c4205"
      },
      "outputs": [
        {
          "output_type": "stream",
          "name": "stdout",
          "text": [
            "Model: \"sequential_4\"\n",
            "_________________________________________________________________\n",
            " Layer (type)                Output Shape              Param #   \n",
            "=================================================================\n",
            " embedding_5 (Embedding)     (None, 142, 16)           451344    \n",
            "                                                                 \n",
            " global_average_pooling1d_5   (None, 16)               0         \n",
            " (GlobalAveragePooling1D)                                        \n",
            "                                                                 \n",
            " dense_20 (Dense)            (None, 64)                1088      \n",
            "                                                                 \n",
            " dense_21 (Dense)            (None, 64)                4160      \n",
            "                                                                 \n",
            " dense_22 (Dense)            (None, 64)                4160      \n",
            "                                                                 \n",
            " dense_23 (Dense)            (None, 64)                4160      \n",
            "                                                                 \n",
            " dropout_7 (Dropout)         (None, 64)                0         \n",
            "                                                                 \n",
            " dense_24 (Dense)            (None, 28)                1820      \n",
            "                                                                 \n",
            "=================================================================\n",
            "Total params: 466,732\n",
            "Trainable params: 466,732\n",
            "Non-trainable params: 0\n",
            "_________________________________________________________________\n"
          ]
        }
      ],
      "source": [
        "model.summary()"
      ]
    },
    {
      "cell_type": "code",
      "source": [
        "from tensorflow.keras.preprocessing.sequence import pad_sequences\n",
        "from tensorflow.keras.layers import Embedding, LSTM, Dense, Bidirectional,Dropout\n",
        "from tensorflow.keras.preprocessing.text import Tokenizer\n",
        "from tensorflow.keras.models import Sequential\n",
        "from tensorflow.keras.optimizers import Adam\n",
        "model = Sequential()\n",
        "model.add(Embedding(vocab_size, embedding_dim, input_length=max_length))\n",
        "model.add(Bidirectional(LSTM(150,return_sequences=True)))\n",
        "model.add(Bidirectional(LSTM(75)))\n",
        "model.add(Dense(32,activation='relu'))\n",
        "model.add(Dense(28, activation='softmax'))\n",
        "model.add(Dropout(0.6))\n",
        "#adam = Adam(learning_rate=0.01)\n",
        "model.compile(loss='categorical_crossentropy', optimizer='adam', metrics=['accuracy'])"
      ],
      "metadata": {
        "id": "G5YCPpYdZrEo"
      },
      "execution_count": 35,
      "outputs": []
    },
    {
      "cell_type": "code",
      "execution_count": 36,
      "metadata": {
        "colab": {
          "base_uri": "https://localhost:8080/"
        },
        "id": "2DTKQFf1kkyc",
        "outputId": "7bdf5962-f5c5-4a0f-d03b-e07d183443dc"
      },
      "outputs": [
        {
          "output_type": "stream",
          "name": "stdout",
          "text": [
            "Epoch 1/30\n",
            "1447/1447 - 47s - loss: 10.3748 - accuracy: 0.1902 - val_loss: 2.2395 - val_accuracy: 0.4308 - 47s/epoch - 33ms/step\n",
            "Epoch 2/30\n",
            "1447/1447 - 43s - loss: 10.2260 - accuracy: 0.2313 - val_loss: 2.0545 - val_accuracy: 0.4667 - 43s/epoch - 30ms/step\n",
            "Epoch 3/30\n",
            "1447/1447 - 41s - loss: 10.1956 - accuracy: 0.2437 - val_loss: 1.9342 - val_accuracy: 0.4901 - 41s/epoch - 29ms/step\n",
            "Epoch 4/30\n",
            "1447/1447 - 41s - loss: 10.1858 - accuracy: 0.2566 - val_loss: 1.8684 - val_accuracy: 0.4979 - 41s/epoch - 28ms/step\n",
            "Epoch 5/30\n",
            "1447/1447 - 42s - loss: 10.0539 - accuracy: 0.2707 - val_loss: 1.8332 - val_accuracy: 0.5041 - 42s/epoch - 29ms/step\n",
            "Epoch 6/30\n",
            "1447/1447 - 42s - loss: 10.0454 - accuracy: 0.2832 - val_loss: 1.8328 - val_accuracy: 0.4907 - 42s/epoch - 29ms/step\n",
            "Epoch 7/30\n",
            "1447/1447 - 41s - loss: 9.9712 - accuracy: 0.2934 - val_loss: 1.8428 - val_accuracy: 0.4901 - 41s/epoch - 28ms/step\n",
            "Epoch 8/30\n",
            "1447/1447 - 41s - loss: 10.0034 - accuracy: 0.2999 - val_loss: 1.8524 - val_accuracy: 0.4949 - 41s/epoch - 29ms/step\n",
            "Epoch 9/30\n",
            "1447/1447 - 42s - loss: 9.9272 - accuracy: 0.3091 - val_loss: 1.9376 - val_accuracy: 0.4553 - 42s/epoch - 29ms/step\n",
            "Epoch 10/30\n",
            "1447/1447 - 42s - loss: 9.8721 - accuracy: 0.3191 - val_loss: 1.9618 - val_accuracy: 0.4782 - 42s/epoch - 29ms/step\n",
            "Epoch 11/30\n",
            "1447/1447 - 42s - loss: 9.9527 - accuracy: 0.3204 - val_loss: 1.9724 - val_accuracy: 0.4830 - 42s/epoch - 29ms/step\n",
            "Epoch 12/30\n",
            "1447/1447 - 42s - loss: 9.8870 - accuracy: 0.3298 - val_loss: 2.0483 - val_accuracy: 0.4691 - 42s/epoch - 29ms/step\n",
            "Epoch 13/30\n",
            "1447/1447 - 43s - loss: 9.8937 - accuracy: 0.3325 - val_loss: 2.0708 - val_accuracy: 0.4658 - 43s/epoch - 30ms/step\n",
            "Epoch 14/30\n",
            "1447/1447 - 41s - loss: 9.8769 - accuracy: 0.3369 - val_loss: 2.0676 - val_accuracy: 0.4627 - 41s/epoch - 29ms/step\n",
            "Epoch 15/30\n",
            "1447/1447 - 41s - loss: 9.7811 - accuracy: 0.3463 - val_loss: 2.2041 - val_accuracy: 0.4599 - 41s/epoch - 29ms/step\n",
            "Epoch 16/30\n",
            "1447/1447 - 43s - loss: 9.8149 - accuracy: 0.3457 - val_loss: 2.2614 - val_accuracy: 0.4599 - 43s/epoch - 30ms/step\n",
            "Epoch 17/30\n",
            "1447/1447 - 42s - loss: 9.7641 - accuracy: 0.3530 - val_loss: 2.2971 - val_accuracy: 0.4522 - 42s/epoch - 29ms/step\n",
            "Epoch 18/30\n",
            "1447/1447 - 42s - loss: 9.8732 - accuracy: 0.3493 - val_loss: 2.3784 - val_accuracy: 0.4544 - 42s/epoch - 29ms/step\n",
            "Epoch 19/30\n",
            "1447/1447 - 42s - loss: 9.8561 - accuracy: 0.3525 - val_loss: 2.4144 - val_accuracy: 0.4559 - 42s/epoch - 29ms/step\n",
            "Epoch 20/30\n",
            "1447/1447 - 42s - loss: 9.8069 - accuracy: 0.3562 - val_loss: 2.4425 - val_accuracy: 0.4483 - 42s/epoch - 29ms/step\n",
            "Epoch 21/30\n",
            "1447/1447 - 41s - loss: 9.7894 - accuracy: 0.3613 - val_loss: 2.5066 - val_accuracy: 0.4389 - 41s/epoch - 29ms/step\n",
            "Epoch 22/30\n",
            "1447/1447 - 41s - loss: 9.7929 - accuracy: 0.3616 - val_loss: 2.5873 - val_accuracy: 0.4461 - 41s/epoch - 29ms/step\n",
            "Epoch 23/30\n",
            "1447/1447 - 42s - loss: 9.7262 - accuracy: 0.3662 - val_loss: 2.6907 - val_accuracy: 0.4288 - 42s/epoch - 29ms/step\n",
            "Epoch 24/30\n",
            "1447/1447 - 41s - loss: 9.7827 - accuracy: 0.3653 - val_loss: 2.7075 - val_accuracy: 0.4293 - 41s/epoch - 29ms/step\n",
            "Epoch 25/30\n",
            "1447/1447 - 40s - loss: 9.7497 - accuracy: 0.3695 - val_loss: 2.8042 - val_accuracy: 0.4373 - 40s/epoch - 28ms/step\n",
            "Epoch 26/30\n",
            "1447/1447 - 43s - loss: 9.7310 - accuracy: 0.3724 - val_loss: 2.8766 - val_accuracy: 0.4299 - 43s/epoch - 29ms/step\n",
            "Epoch 27/30\n",
            "1447/1447 - 49s - loss: 9.8474 - accuracy: 0.3667 - val_loss: 2.9403 - val_accuracy: 0.4441 - 49s/epoch - 34ms/step\n",
            "Epoch 28/30\n",
            "1447/1447 - 41s - loss: 9.7113 - accuracy: 0.3744 - val_loss: 3.0019 - val_accuracy: 0.4069 - 41s/epoch - 29ms/step\n",
            "Epoch 29/30\n",
            "1447/1447 - 42s - loss: 9.6802 - accuracy: 0.3784 - val_loss: 3.0140 - val_accuracy: 0.4249 - 42s/epoch - 29ms/step\n",
            "Epoch 30/30\n",
            "1447/1447 - 44s - loss: 9.7223 - accuracy: 0.3770 - val_loss: 3.0761 - val_accuracy: 0.4247 - 44s/epoch - 30ms/step\n"
          ]
        }
      ],
      "source": [
        "num_epochs = 30\n",
        "history = model.fit(training_padded, training_labels, batch_size=30, epochs=num_epochs, validation_data=(testing_padded, testing_labels), verbose=2)"
      ]
    },
    {
      "cell_type": "code",
      "execution_count": 56,
      "metadata": {
        "colab": {
          "base_uri": "https://localhost:8080/",
          "height": 541
        },
        "id": "2HYfBKXjkmU8",
        "outputId": "88422f7b-f05a-4043-a0da-6c63ae5dbb75"
      },
      "outputs": [
        {
          "output_type": "display_data",
          "data": {
            "text/plain": [
              "<Figure size 432x288 with 1 Axes>"
            ],
            "image/png": "[encoded data removed]"
          },
          "metadata": {
            "needs_background": "light"
          }
        },
        {
          "output_type": "display_data",
          "data": {
            "text/plain": [
              "<Figure size 432x288 with 1 Axes>"
            ],
            "image/png": "[encoded data removed]"
          },
          "metadata": {
            "needs_background": "light"
          }
        }
      ],
      "source": [
        "import matplotlib.pyplot as plt\n",
        "\n",
        "def plot_graphs(history, string):\n",
        "  plt.plot(history.history[string])\n",
        "  plt.plot(history.history['val_'+string])\n",
        "  plt.xlabel(\"Epochs\")\n",
        "  plt.ylabel(string)\n",
        "  plt.legend([string, 'val_'+string])\n",
        "  plt.show()\n",
        "  \n",
        "plot_graphs(history, \"accuracy\")\n",
        "plot_graphs(history, \"loss\")"
      ]
    },
    {
      "cell_type": "code",
      "execution_count": 40,
      "metadata": {
        "id": "cT76G_bOixGu"
      },
      "outputs": [],
      "source": [
        "post=valid['text'][0]"
      ]
    },
    {
      "cell_type": "code",
      "source": [
        "post"
      ],
      "metadata": {
        "colab": {
          "base_uri": "https://localhost:8080/",
          "height": 36
        },
        "id": "4AQbpqvV37pp",
        "outputId": "10a67cb2-f86d-416d-fb35-4c8226c1a683"
      },
      "execution_count": 54,
      "outputs": [
        {
          "output_type": "execute_result",
          "data": {
            "text/plain": [
              "'Is this in New Orleans?? I really feel like this is New Orleans.'"
            ],
            "application/vnd.google.colaboratory.intrinsic+json": {
              "type": "string"
            }
          },
          "metadata": {},
          "execution_count": 54
        }
      ]
    },
    {
      "cell_type": "code",
      "source": [
        "token_list = tokenizer.texts_to_sequences([post])[0]\n",
        "token_list = pad_sequences([token_list], maxlen=max_length, padding='pre')\n",
        "predicted = np.argmax(model.predict(token_list), axis=1)"
      ],
      "metadata": {
        "colab": {
          "base_uri": "https://localhost:8080/"
        },
        "id": "s7VoDiGW16iC",
        "outputId": "dbe9f3fe-930f-4bef-9dfa-35f360cecfd6"
      },
      "execution_count": 46,
      "outputs": [
        {
          "output_type": "stream",
          "name": "stdout",
          "text": [
            "1/1 [==============================] - 1s 1s/step\n"
          ]
        }
      ]
    },
    {
      "cell_type": "code",
      "source": [
        "predicted\n",
        "#Predicted neutral which seems correct for our post"
      ],
      "metadata": {
        "colab": {
          "base_uri": "https://localhost:8080/"
        },
        "id": "0x74EcyF3xN_",
        "outputId": "feee0648-bc1d-4e21-f872-ccccdb424ad7"
      },
      "execution_count": 55,
      "outputs": [
        {
          "output_type": "execute_result",
          "data": {
            "text/plain": [
              "array([27])"
            ]
          },
          "metadata": {},
          "execution_count": 55
        }
      ]
    }
  ],
  "metadata": {
    "accelerator": "GPU",
    "colab": {
      "provenance": [],
      "toc_visible": true
    },
    "kernelspec": {
      "display_name": "base",
      "language": "python",
      "name": "python3"
    },
    "language_info": {
      "codemirror_mode": {
        "name": "ipython",
        "version": 3
      },
      "file_extension": ".py",
      "mimetype": "text/x-python",
      "name": "python",
      "nbconvert_exporter": "python",
      "pygments_lexer": "ipython3",
      "version": "3.8.8 (default, Apr 13 2021, 15:08:03) [MSC v.1916 64 bit (AMD64)]"
    },
    "vscode": {
      "interpreter": {
        "hash": "0593076b7fc435dc46ff5af9309de5a4a2f6dac4332c0fd7e25eabe75bfc0709"
      }
    },
    "gpuClass": "standard"
  },
  "nbformat": 4,
  "nbformat_minor": 0
}